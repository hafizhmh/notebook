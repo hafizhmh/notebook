{
  "nbformat": 4,
  "nbformat_minor": 0,
  "metadata": {
    "colab": {
      "name": "antena_ber",
      "provenance": [],
      "collapsed_sections": []
    },
    "kernelspec": {
      "name": "python3",
      "display_name": "Python 3"
    }
  },
  "cells": [
    {
      "cell_type": "code",
      "metadata": {
        "id": "jl6H_gvMiLwS"
      },
      "source": [
        "# Hafizh Mulya H. - 18117030\n",
        "# Update: 20 Agustus 2021\n",
        "# Perhitungan BER antena teoritis\n",
        "# Juga tersedia di https://colab.research.google.com/drive/1PT_xepCEQ4rlI9QFcBt_ASf-vlW-Lsnn?usp=sharing"
      ],
      "execution_count": null,
      "outputs": []
    },
    {
      "cell_type": "code",
      "metadata": {
        "id": "TTZyjuGYGD1C"
      },
      "source": [
        "import numpy as np\n",
        "import matplotlib.pyplot as plt\n",
        "from math import erf, sqrt"
      ],
      "execution_count": null,
      "outputs": []
    },
    {
      "cell_type": "code",
      "metadata": {
        "colab": {
          "base_uri": "https://localhost:8080/",
          "height": 282
        },
        "id": "QOZGLHVlGLhb",
        "outputId": "85acc0f1-14fe-426b-925b-73c4686f6064"
      },
      "source": [
        "Eb_N0 = np.arange(0,35)\n",
        "SNR = 10**(Eb_N0/10)\n",
        "\n",
        "ind = 0\n",
        "for x in SNR:\n",
        "    # Nilai BER secara Teori\n",
        "    BER_Teori_1_antena[ind] = 0.5*(1-sqrt(x/(1+x)))\n",
        "    BER_Teori_2_antena[ind] = 0.5*(1-2*sqrt(x/(1+x)) + sqrt(x/(2+x)))\n",
        "    ind += 1\n",
        "plt.semilogy(Eb_N0, BER_Teori_1_antena,'-s')\n",
        "plt.semilogy(Eb_N0, BER_Teori_2_antena,'-rd')"
      ],
      "execution_count": null,
      "outputs": [
        {
          "output_type": "execute_result",
          "data": {
            "text/plain": [
              "[<matplotlib.lines.Line2D at 0x7f8a56c42a58>]"
            ]
          },
          "metadata": {
            "tags": []
          },
          "execution_count": 5
        },
        {
          "output_type": "display_data",
          "data": {
            "image/png": "[encoded data removed]",
            "text/plain": [
              "<Figure size 432x288 with 1 Axes>"
            ]
          },
          "metadata": {
            "tags": [],
            "needs_background": "light"
          }
        }
      ]
    }
  ]
}