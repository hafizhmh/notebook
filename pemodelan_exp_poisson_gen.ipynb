{
  "nbformat": 4,
  "nbformat_minor": 0,
  "metadata": {
    "colab": {
      "name": "pemodelan_exp_poisson_gen",
      "provenance": [],
      "collapsed_sections": []
    },
    "kernelspec": {
      "name": "python3",
      "display_name": "Python 3"
    }
  },
  "cells": [
    {
      "cell_type": "code",
      "metadata": {
        "id": "oGdzCd3qQV1a"
      },
      "source": [
        "# Hafizh Mulya H. - 18117030\n",
        "# Update: 20 Agustus 2021\n",
        "# Tugas Mata Kuliah EL5143 Pemodelan & Simulasi Jaringan\n",
        "# Pembangkitan peubah acak (random variable, rv) dengan distribusi eksponensial dan poisson\n",
        "# Juga tersedia di https://colab.research.google.com/drive/1M_EvM5IELHl7Ih2MR5fbKoa6zzWkK_4G?usp=sharing"
      ],
      "execution_count": null,
      "outputs": []
    },
    {
      "cell_type": "code",
      "metadata": {
        "id": "v_AXyiWzBUsv"
      },
      "source": [
        "import numpy as np\n",
        "import math\n",
        "from google.colab import files"
      ],
      "execution_count": 1,
      "outputs": []
    },
    {
      "cell_type": "code",
      "metadata": {
        "id": "vhdsVprHRHFN"
      },
      "source": [
        "# cdf dari distribusi eksponensial y = F(x) = 1-exp(-lambda.x)\n",
        "# sehingga inverse-nya berupa x = -ln(1-y)/lambda\n",
        "def exp_gen(size, _lambda, isCheck=False, isSave=False):\n",
        "  # uniformly distributed r.v. generator\n",
        "  rv = np.random.uniform(0,1,size)\n",
        "  tmp=[]\n",
        "  for v in rv:\n",
        "    tmp.append(-np.log(1-v)/_lambda)\n",
        "  if isCheck: # cek performa fungsi\n",
        "    print(\"Parameter: lambda =\", _lambda)\n",
        "    print(\"Teoritis:\")\n",
        "    print(\"mean = 1/lambda =\", 1/_lambda, \"dan\")\n",
        "    print(\"variance = 1/lambda² =\", 1/(_lambda**2))\n",
        "    print()\n",
        "    print(\"Aktual:\")\n",
        "    print(\"mean =\", np.mean(tmp),\"dan\")\n",
        "    print(\"variance =\", np.var(tmp))\n",
        "  if isSave: # simpan data yang dibangkitkan ke berkas\n",
        "    np.savetxt('exp_gen.csv', tmp, delimiter=',')\n",
        "    files.download('exp_gen.csv')\n",
        "  return tmp"
      ],
      "execution_count": 3,
      "outputs": []
    },
    {
      "cell_type": "code",
      "metadata": {
        "id": "E85aysGRfnAG"
      },
      "source": [
        "# Poisson generator berdasarkan inverse transform sampling\n",
        "# http://luc.devroye.org/chapter_ten.pdf\n",
        "def poisson_gen(size, _lambda, isCheck=False, isSave=False):\n",
        "  # uniformly distributed r.v. generator\n",
        "  rv = np.random.uniform(0,1,size)\n",
        "  tmp=[]\n",
        "  for v in rv:\n",
        "    x=0\n",
        "    p=math.exp(-_lambda)\n",
        "    s=p\n",
        "    while v>s:\n",
        "      x=x+1\n",
        "      p=p*_lambda/x\n",
        "      s=s+p\n",
        "    tmp.append(x)\n",
        "  if isCheck: # cek performa fungsi\n",
        "    print(\"Parameter: lambda =\", _lambda)\n",
        "    print(\"Teoritis:\")\n",
        "    print(\"mean = variance = lambda =\",_lambda)\n",
        "    print()\n",
        "    print(\"Aktual:\")\n",
        "    print(\"mean =\", np.mean(tmp),\"dan\")\n",
        "    print(\"variance =\", np.var(tmp))\n",
        "  if isSave: # simpan data yang dibangkitkan ke berkas\n",
        "    np.savetxt('poisson_gen.csv', tmp, delimiter=',')\n",
        "    files.download('poisson_gen.csv')\n",
        "  return tmp"
      ],
      "execution_count": 5,
      "outputs": []
    },
    {
      "cell_type": "code",
      "metadata": {
        "colab": {
          "base_uri": "https://localhost:8080/"
        },
        "id": "MSn8L74rc1Ds",
        "outputId": "45686ef5-79ca-498b-cf26-b8eb9af8eb97"
      },
      "source": [
        "exp_rv = exp_gen(size=100000, _lambda=1.5, isCheck=True, isSave=False)"
      ],
      "execution_count": 6,
      "outputs": [
        {
          "output_type": "stream",
          "text": [
            "Parameter: lambda = 1.5\n",
            "Teoritis:\n",
            "mean = 1/lambda = 0.6666666666666666 dan\n",
            "variance = 1/lambda² = 0.4444444444444444\n",
            "\n",
            "Aktual:\n",
            "mean = 0.6664432112414709 dan\n",
            "variance = 0.44135649311309144\n"
          ],
          "name": "stdout"
        }
      ]
    },
    {
      "cell_type": "code",
      "metadata": {
        "colab": {
          "base_uri": "https://localhost:8080/"
        },
        "id": "ygglj17Kj1c2",
        "outputId": "e70d6a4b-4ca1-45aa-f50c-7e7fc2c88375"
      },
      "source": [
        "poisson_rv = poisson_gen(size=100000, _lambda=1.5, isCheck=True, isSave=False)"
      ],
      "execution_count": 7,
      "outputs": [
        {
          "output_type": "stream",
          "text": [
            "Parameter: lambda = 1.5\n",
            "Teoritis:\n",
            "mean = variance = lambda = 1.5\n",
            "\n",
            "Aktual:\n",
            "mean = 1.49579 dan\n",
            "variance = 1.5084022759000002\n"
          ],
          "name": "stdout"
        }
      ]
    }
  ]
}